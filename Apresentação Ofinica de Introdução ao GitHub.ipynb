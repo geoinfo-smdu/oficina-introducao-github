{
 "cells": [
  {
   "cell_type": "markdown",
   "id": "statewide-journey",
   "metadata": {
    "slideshow": {
     "slide_type": "slide"
    }
   },
   "source": [
    "# Oficina de introdução ao GitHub"
   ]
  },
  {
   "cell_type": "markdown",
   "id": "searching-northeast",
   "metadata": {
    "slideshow": {
     "slide_type": "subslide"
    }
   },
   "source": [
    "## Agenda\n",
    "\n",
    "1. Princípios básicos\n",
    "2. Navegando pelo GitHub de GeoInfo\n",
    "3. Mão na massa: criar, alterar, revisar, alterar, revisar, alterar ...\n",
    "4. Mudar o que esta escrito nessa linha e atualizar o GitHub"
   ]
  },
  {
   "cell_type": "markdown",
   "id": "adverse-wrong",
   "metadata": {
    "slideshow": {
     "slide_type": "slide"
    }
   },
   "source": [
    "## O que é o GitHub?\n",
    "\n",
    ">\"GitHub é uma plataforma de hospedagem de _código-fonte_ e _arquivos_ com _controle de versão_ usando o _Git_.\" (Wikipédia, 2021)"
   ]
  },
  {
   "cell_type": "markdown",
   "id": "remarkable-destiny",
   "metadata": {
    "slideshow": {
     "slide_type": "subslide"
    }
   },
   "source": [
    "### Código-fonte\n",
    "\n",
    "> Código-fonte é o conjunto de palavras ou símbolos escritos de forma ordenada, contendo instruções em uma das linguagens de programação existentes, de maneira lógica (Wikipédia, 2021)\n",
    "\n",
    "* Qual a diferênca entre um código fonte e um programa em sí?"
   ]
  },
  {
   "cell_type": "markdown",
   "id": "critical-harris",
   "metadata": {
    "slideshow": {
     "slide_type": "subslide"
    }
   },
   "source": [
    "### Arquivos\n",
    "\n",
    "* Analogia de códigos fontes com arquivos texto / binários\n",
    "* Exemplos de arquivos binários: Excel (XLS), Word (DOC), ShapeFiles (SHP/DBF), GeoPackage (GPKG), etc ...\n",
    "* Exemplos de arquivos textos: CSV, TXT, GeoJson, Json, XML, HTML, MarkDown\n",
    "* O que mudou para utilizarmos mais arquivos texto atualmente?"
   ]
  },
  {
   "cell_type": "markdown",
   "id": "endless-respect",
   "metadata": {
    "slideshow": {
     "slide_type": "subslide"
    }
   },
   "source": [
    "### ... antes uma pitada sobre o movimento FreeWare\n",
    "\n",
    "* Vamos retomar esse assunto na próxima oficina sobre licenças, mas ...\n",
    "* [Manifesto GNU](https://www.gnu.org/gnu/manifesto.pt-br.html) (1985, mas o movimento teve início em 1983 por Richard Stallman)\n",
    "\n",
    "> \"O movimento software livre é um movimento social, com o objetivo de obter e garantir certas liberdades para usuários de software, ou seja, a liberdade de executar o software, para estudar e modificar o software, e para redistribuir cópias, com ou sem alterações.\" (Wikipedia, 2021)\n"
   ]
  },
  {
   "cell_type": "markdown",
   "id": "level-sense",
   "metadata": {
    "slideshow": {
     "slide_type": "subslide"
    }
   },
   "source": [
    "### Programadores escrevem!\n",
    "\n",
    "* Código-fonte, lembra?\n",
    "* Acho importante parar um pouco para refletir sobre a importância de escrever código.\n",
    "* Mas como controlar, documentar, revisar, alterar, colaborar"
   ]
  },
  {
   "cell_type": "markdown",
   "id": "complex-transsexual",
   "metadata": {
    "slideshow": {
     "slide_type": "subslide"
    }
   },
   "source": [
    "### Git\n",
    "\n",
    "> Git é um sistema de controle de versões distribuído, usado principalmente no desenvolvimento de software, mas pode ser usado para registrar o histórico de edições de qualquer tipo de arquivo\n",
    "\n",
    "* Criado por Linus Torvalds, 2005\n",
    "* Para substituir o CVS (Concurrent Version System)\n",
    "* É distribuido e portátil"
   ]
  },
  {
   "cell_type": "markdown",
   "id": "statistical-vehicle",
   "metadata": {
    "slideshow": {
     "slide_type": "slide"
    }
   },
   "source": [
    "### Mas por que não usar um Google Drive, OneDrive, DropBox, NAS, etc ...?\n",
    "\n",
    "* Despersonificação\n",
    "* Escala\n",
    "* Refletir sobre o ciclo de vida do que estamos fazendo\n",
    "* (Analogia das paredes de vidro)\n",
    "* Colaborar\n",
    "* Transgredir o 'tempo real autoritário' para o diálogo fragmentado"
   ]
  },
  {
   "cell_type": "markdown",
   "id": "judicial-census",
   "metadata": {
    "slideshow": {
     "slide_type": "slide"
    }
   },
   "source": [
    "### Mas e a segurança?\n",
    "\n",
    "* Pensar a segurança antes:\n",
    "    * Ignorar arquivos contendo senhas, IPs, dados pessoais, etc ...\n",
    "    * É possível manter repositórios privados\n",
    "    * Pensar na segurança antes de começar o ciclo de vida do desenvolvimento\n",
    "* No nosso caso, fica mais fácil, trabalhamos com transparência\n",
    "* As alterações sempre são sugestões de alteração (Pull REquests)"
   ]
  },
  {
   "cell_type": "markdown",
   "id": "under-freedom",
   "metadata": {
    "slideshow": {
     "slide_type": "slide"
    }
   },
   "source": [
    "# Vamos navegar pelo GitHub?\n",
    "\n",
    "> https://github.com/geoinfo-smdu"
   ]
  },
  {
   "cell_type": "markdown",
   "id": "attempted-grade",
   "metadata": {
    "slideshow": {
     "slide_type": "slide"
    }
   },
   "source": [
    "# Mão na massa\n",
    "\n",
    "> https://github.com/geoinfo-smdu/oficina-introducao-github"
   ]
  },
  {
   "cell_type": "markdown",
   "id": "imperial-spirituality",
   "metadata": {
    "slideshow": {
     "slide_type": "subslide"
    }
   },
   "source": [
    "## Instalação de ferramenta Windows\n",
    "\n",
    "* Dá para usar pelo Terminal tb, mas vamos começar pelo mais fácil\n",
    "* https://desktop.github.com/\n",
    "* É um bom editor de textos https://code.visualstudio.com/Download"
   ]
  },
  {
   "cell_type": "markdown",
   "id": "popular-there",
   "metadata": {
    "slideshow": {
     "slide_type": "slide"
    }
   },
   "source": [
    "## Clonando um repositório\n",
    "\n",
    "`git clone https://github.com/geoinfo-smdu/oficina-introducao-github.git`"
   ]
  },
  {
   "cell_type": "markdown",
   "id": "about-width",
   "metadata": {
    "slideshow": {
     "slide_type": "slide"
    }
   },
   "source": [
    "## Trabalhando com um arquivos texto\n",
    "\n",
    "> A ideia aqui é tentar reproduzir o fluxo de trabalho com um arquivo texto e depois com um arquivo do LibreOffice"
   ]
  },
  {
   "cell_type": "markdown",
   "id": "worse-litigation",
   "metadata": {
    "slideshow": {
     "slide_type": "slide"
    }
   },
   "source": [
    "## Fluxo tabela CSV e um XLS\n",
    "\n",
    "1. Lembra do arquivo texto e binário?\n",
    "1. Criar uma planilha\n",
    "1. Adicionar os arquivos criados `git add .`\n",
    "1. Comitar `git commit -m \"adicionando planilhas\"`\n",
    "1. Enviar para o GitHub `git push`\n",
    "1. Vamos ver se tudo funcionou"
   ]
  },
  {
   "cell_type": "markdown",
   "id": "addressed-still",
   "metadata": {
    "slideshow": {
     "slide_type": "subslide"
    }
   },
   "source": [
    "## Criar uma atualização no CSV e no XLS\n",
    "\n",
    "1. Lembrar de dar sempre atualizar antes de começar a trabalhar\n",
    "1. Alterar dados nas planilhas\n",
    "1. Comitar `git commit -m \"atualizando as planilhas\"`\n",
    "1. Enviar para o GitHub `git push`\n",
    "1. Vamos ver se tudo funcionou"
   ]
  },
  {
   "cell_type": "markdown",
   "id": "equal-variance",
   "metadata": {
    "slideshow": {
     "slide_type": "slide"
    }
   },
   "source": [
    "## Reproduzindo o mesmo fluxo de trabalhos com arquivos Geo\n",
    "\n",
    "> Se der tempo ...\n"
   ]
  },
  {
   "cell_type": "markdown",
   "id": "activated-biology",
   "metadata": {
    "slideshow": {
     "slide_type": "slide"
    }
   },
   "source": [
    "## Vamos mudar aquela linha do segundo slide?"
   ]
  },
  {
   "cell_type": "markdown",
   "id": "clear-summer",
   "metadata": {
    "slideshow": {
     "slide_type": "slide"
    }
   },
   "source": [
    "## Sugestões para próximas oficinas\n",
    "\n",
    "* Software livre e suas licenças\n",
    "* Trabalhando com dados raster no Qgis (análises PDE)\n",
    "\n",
    "> Obrigado e até a próxima! Que tal 30/04 às 10:00?\n"
   ]
  }
 ],
 "metadata": {
  "celltoolbar": "Slideshow",
  "kernelspec": {
   "display_name": "Python 3",
   "language": "python",
   "name": "python3"
  },
  "language_info": {
   "codemirror_mode": {
    "name": "ipython",
    "version": 3
   },
   "file_extension": ".py",
   "mimetype": "text/x-python",
   "name": "python",
   "nbconvert_exporter": "python",
   "pygments_lexer": "ipython3",
   "version": "3.9.2"
  }
 },
 "nbformat": 4,
 "nbformat_minor": 5
}
